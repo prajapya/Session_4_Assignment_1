{
 "cells": [
  {
   "cell_type": "code",
   "execution_count": 19,
   "metadata": {},
   "outputs": [],
   "source": [
    "# Task 1 - Q 1\n",
    "# Write a function to find moving average in an array over a window:\n",
    "# Test it over [3, 5, 7, 2, 8, 10, 11, 65, 72, 81, 99, 100, 150] and window of 3."
   ]
  },
  {
   "cell_type": "code",
   "execution_count": 1,
   "metadata": {},
   "outputs": [],
   "source": [
    "import numpy as np\n",
    "import pandas as pd\n",
    "import matplotlib.pyplot as plt"
   ]
  },
  {
   "cell_type": "code",
   "execution_count": 4,
   "metadata": {},
   "outputs": [],
   "source": [
    "def moving_avg(x, k):\n",
    "    out = np.array([])\n",
    "    for i in np.arange(len(x)-(k-1)):\n",
    "        val = sum(np.ones(k) * x[i:i+k]) / k\n",
    "        out = np.append(out,val)\n",
    "    return out"
   ]
  },
  {
   "cell_type": "code",
   "execution_count": 5,
   "metadata": {},
   "outputs": [
    {
     "data": {
      "text/plain": [
       "array([25., 35., 45., 55., 65., 75., 85.])"
      ]
     },
     "execution_count": 5,
     "metadata": {},
     "output_type": "execute_result"
    }
   ],
   "source": [
    "moving_avg(np.array([10,20,30,40,50,60,70,80,90,100]),4)"
   ]
  },
  {
   "cell_type": "code",
   "execution_count": 7,
   "metadata": {},
   "outputs": [
    {
     "data": {
      "text/plain": [
       "array([  5.        ,   4.66666667,   5.66666667,   6.66666667,\n",
       "         9.66666667,  28.66666667,  49.33333333,  72.66666667,\n",
       "        84.        ,  93.33333333, 116.33333333])"
      ]
     },
     "execution_count": 7,
     "metadata": {},
     "output_type": "execute_result"
    }
   ],
   "source": [
    "moving_avg(np.array([3, 5, 7, 2, 8, 10, 11, 65, 72, 81, 99, 100, 150]),3)"
   ]
  },
  {
   "cell_type": "code",
   "execution_count": 8,
   "metadata": {},
   "outputs": [],
   "source": [
    "# Task 2 - Q 1\n",
    "# How-to-count-distance-to-the-previous-zero\n",
    "# For each value, count the difference back to the previous zero (or the start of the Series,\n",
    "# whichever is closer)\n",
    "\n",
    "def distPrevZero(arr, n): \n",
    "      \n",
    "    out = [0 for i in range(n)] \n",
    "    if (arr[0] == 0): \n",
    "        out[0] = 0\n",
    "    else: \n",
    "        out[0] = 10**9\n",
    "\n",
    "    for i in range(1, n): \n",
    "  \n",
    "        out[i] = out[i - 1] + 1\n",
    "  \n",
    "        if (arr[i] == 0): \n",
    "            out[i] = 0\n",
    "    if (arr[n - 1] == 0): \n",
    "        out[n - 1] = 0\n",
    "    for i in range(n - 2, -1, -1): \n",
    "        out[i] = min(out[i], out[i + 1] + 1) \n",
    "        if (arr[i] == 0): \n",
    "            out[i] = 0\n",
    "\n",
    "    for i in out: \n",
    "        print(i, end = \" \") "
   ]
  },
  {
   "cell_type": "code",
   "execution_count": 9,
   "metadata": {},
   "outputs": [
    {
     "name": "stdout",
     "output_type": "stream",
     "text": [
      "2 1 0 1 2 2 1 0 1 2 "
     ]
    }
   ],
   "source": [
    "distPrevZero([7, 2, 0, 3, 4, 2, 5, 0, 3, 4], 10)"
   ]
  },
  {
   "cell_type": "code",
   "execution_count": 10,
   "metadata": {},
   "outputs": [],
   "source": [
    "# Task 2 - Q 2\n",
    "# Create a DatetimeIndex that contains each business day of 2015 and use it to index a Series of\n",
    "# random numbers.\n",
    "\n",
    "df = pd.date_range(start='2015-01-01', end ='2015-12-31', freq = 'B')\n",
    "s = pd.Series(np.random.rand(len(df)), index=df)      "
   ]
  },
  {
   "cell_type": "code",
   "execution_count": 11,
   "metadata": {},
   "outputs": [
    {
     "data": {
      "text/plain": [
       "2015-01-01    0.542558\n",
       "2015-01-02    0.476290\n",
       "2015-01-05    0.435085\n",
       "2015-01-06    0.754319\n",
       "2015-01-07    0.785168\n",
       "2015-01-08    0.805932\n",
       "2015-01-09    0.890418\n",
       "2015-01-12    0.818099\n",
       "2015-01-13    0.060982\n",
       "2015-01-14    0.614853\n",
       "2015-01-15    0.442540\n",
       "2015-01-16    0.654597\n",
       "2015-01-19    0.718302\n",
       "2015-01-20    0.883387\n",
       "2015-01-21    0.084667\n",
       "2015-01-22    0.840221\n",
       "2015-01-23    0.236090\n",
       "2015-01-26    0.547957\n",
       "2015-01-27    0.412490\n",
       "2015-01-28    0.820838\n",
       "2015-01-29    0.122742\n",
       "2015-01-30    0.002202\n",
       "2015-02-02    0.086151\n",
       "2015-02-03    0.691687\n",
       "2015-02-04    0.233581\n",
       "2015-02-05    0.982953\n",
       "2015-02-06    0.092936\n",
       "2015-02-09    0.363665\n",
       "2015-02-10    0.915872\n",
       "2015-02-11    0.607159\n",
       "                ...   \n",
       "2015-11-20    0.778021\n",
       "2015-11-23    0.767548\n",
       "2015-11-24    0.580388\n",
       "2015-11-25    0.616375\n",
       "2015-11-26    0.699205\n",
       "2015-11-27    0.552270\n",
       "2015-11-30    0.318592\n",
       "2015-12-01    0.812999\n",
       "2015-12-02    0.169645\n",
       "2015-12-03    0.585508\n",
       "2015-12-04    0.053804\n",
       "2015-12-07    0.360946\n",
       "2015-12-08    0.595925\n",
       "2015-12-09    0.900280\n",
       "2015-12-10    0.828023\n",
       "2015-12-11    0.427933\n",
       "2015-12-14    0.844861\n",
       "2015-12-15    0.225632\n",
       "2015-12-16    0.259065\n",
       "2015-12-17    0.718311\n",
       "2015-12-18    0.611314\n",
       "2015-12-21    0.796839\n",
       "2015-12-22    0.169392\n",
       "2015-12-23    0.282149\n",
       "2015-12-24    0.989144\n",
       "2015-12-25    0.186562\n",
       "2015-12-28    0.173825\n",
       "2015-12-29    0.269982\n",
       "2015-12-30    0.027602\n",
       "2015-12-31    0.388499\n",
       "Freq: B, Length: 261, dtype: float64"
      ]
     },
     "execution_count": 11,
     "metadata": {},
     "output_type": "execute_result"
    }
   ],
   "source": [
    "s"
   ]
  },
  {
   "cell_type": "code",
   "execution_count": 13,
   "metadata": {},
   "outputs": [],
   "source": [
    "#Task 2 - Q 3 - Find the sum of the values in s for every Wednesday"
   ]
  },
  {
   "cell_type": "code",
   "execution_count": 14,
   "metadata": {},
   "outputs": [
    {
     "data": {
      "text/plain": [
       "24.331832225744847"
      ]
     },
     "execution_count": 14,
     "metadata": {},
     "output_type": "execute_result"
    }
   ],
   "source": [
    "s[df.weekday==2].sum()"
   ]
  },
  {
   "cell_type": "code",
   "execution_count": 15,
   "metadata": {},
   "outputs": [],
   "source": [
    "#Task 2 - Q 4 - Average For each calendar month"
   ]
  },
  {
   "cell_type": "code",
   "execution_count": 16,
   "metadata": {},
   "outputs": [
    {
     "data": {
      "text/plain": [
       "2015-01-31    0.543170\n",
       "2015-02-28    0.537146\n",
       "2015-03-31    0.486391\n",
       "2015-04-30    0.395223\n",
       "2015-05-31    0.415713\n",
       "2015-06-30    0.461055\n",
       "2015-07-31    0.398788\n",
       "2015-08-31    0.584923\n",
       "2015-09-30    0.525864\n",
       "2015-10-31    0.519685\n",
       "2015-11-30    0.556124\n",
       "2015-12-31    0.464271\n",
       "Freq: M, dtype: float64"
      ]
     },
     "execution_count": 16,
     "metadata": {},
     "output_type": "execute_result"
    }
   ],
   "source": [
    "s.resample('M').mean()"
   ]
  },
  {
   "cell_type": "code",
   "execution_count": 17,
   "metadata": {},
   "outputs": [],
   "source": [
    "#Task 2 - Q 5 - For each group of four consecutive calendar months in s, find the date on which the highest\n",
    "# value occurred."
   ]
  },
  {
   "cell_type": "code",
   "execution_count": 18,
   "metadata": {},
   "outputs": [
    {
     "data": {
      "text/plain": [
       "2015-01-31   2015-01-09\n",
       "2015-05-31   2015-03-23\n",
       "2015-09-30   2015-09-28\n",
       "2016-01-31   2015-11-19\n",
       "dtype: datetime64[ns]"
      ]
     },
     "execution_count": 18,
     "metadata": {},
     "output_type": "execute_result"
    }
   ],
   "source": [
    "s.groupby(pd.Grouper(freq ='4M')).idxmax()\n",
    "\n",
    "# for reference\n",
    "# x = s.groupby(pd.Grouper(freq ='M')).idxmax()\n",
    "# x\n",
    "# y = s.groupby(pd.Grouper(freq ='4M')).max()\n",
    "# y"
   ]
  },
  {
   "cell_type": "code",
   "execution_count": null,
   "metadata": {},
   "outputs": [],
   "source": []
  }
 ],
 "metadata": {
  "kernelspec": {
   "display_name": "Python 3",
   "language": "python",
   "name": "python3"
  },
  "language_info": {
   "codemirror_mode": {
    "name": "ipython",
    "version": 3
   },
   "file_extension": ".py",
   "mimetype": "text/x-python",
   "name": "python",
   "nbconvert_exporter": "python",
   "pygments_lexer": "ipython3",
   "version": "3.7.1"
  }
 },
 "nbformat": 4,
 "nbformat_minor": 2
}
